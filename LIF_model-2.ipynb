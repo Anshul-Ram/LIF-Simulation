{
  "nbformat": 4,
  "nbformat_minor": 0,
  "metadata": {
    "colab": {
      "name": "LIF_model.ipynb",
      "provenance": [],
      "collapsed_sections": []
    },
    "kernelspec": {
      "name": "python3",
      "display_name": "Python 3"
    }
  },
  "cells": [
    {
      "cell_type": "markdown",
      "metadata": {
        "id": "nh_Xw4Nb5Dwb"
      },
      "source": [
        "Simulation of the LIF model"
      ]
    },
    {
      "cell_type": "code",
      "metadata": {
        "id": "XciQZydB47iF",
        "outputId": "9eeaae87-1133-417f-f2d5-4fc297b43781",
        "colab": {
          "base_uri": "https://localhost:8080/",
          "height": 34
        }
      },
      "source": [
        "# Importing relevant modules\n",
        "import numpy as np\n",
        "import math\n",
        "import matplotlib.pyplot as plt\n",
        "import scipy.integrate as integrate\n",
        "\n",
        "# Defining the variables in Eq.2\n",
        "Tau = 20 * (10 ** (-3))\n",
        "E_0 = -60 * (10 ** (-3))\n",
        "V_re = -55 * (10 ** (-3))\n",
        "V_th = 50 * (10 ** (-3))\n",
        "sigma = 4 * (10 ** (-3))\n",
        "\n",
        "# Calculating time steps for the simulation\n",
        "dt = 0.01 * (10 ** (-3))\n",
        "T = 1000 * (10 ** (-3))\n",
        "time_steps = round(T/dt)\n",
        "print(time_steps)\n",
        "\n",
        "# Defining a vector for V\n",
        "V = np.zeros(time_steps + 1)"
      ],
      "execution_count": 1,
      "outputs": [
        {
          "output_type": "stream",
          "text": [
            "100000\n"
          ],
          "name": "stdout"
        }
      ]
    },
    {
      "cell_type": "code",
      "metadata": {
        "id": "AY1O1NF55P15",
        "outputId": "f8e90348-5e3e-4ded-b73d-b0ed2045eecd",
        "colab": {
          "base_uri": "https://localhost:8080/",
          "height": 346
        }
      },
      "source": [
        "\n",
        "# Simulating Equation 2\n",
        "# NOTES: Need to implement the zeta function properly\n",
        "\n",
        "# I have used V_re for the intial voltage, I'me not sure if this is correct.\n",
        "V[0] = V_re\n",
        "\n",
        "# Keeping count of the number of firings \n",
        "Firings = 0\n",
        "# The firing rate 'r'\n",
        "r = 0\n",
        "\n",
        "# Calculating Gaussian white noise (zeta term), I have precalculated the white noise.\n",
        "# Mean = 0, standard deviation = 1\n",
        "noise = np.random.normal(loc = 0, scale = 1, size = time_steps)\n",
        "\n",
        "for i in range(1, time_steps):\n",
        "    # Euler integration to find V\n",
        "    V[i] = V[i-1] + dt * ((Tau) ** (-1)) * (E_0 - V[i] + sigma * math.sqrt( 2 * Tau ) * noise[i])\n",
        "\n",
        "    # Code to reset the voltage to the rest voltage and to count the number of firings\n",
        "    \n",
        "    if V[i] >= V_th:\n",
        "      V[i] = V_re\n",
        "      Firings += 1    \n",
        "  \n",
        "    \n",
        "# Calculating the firing rate\n",
        "r = Firings / T\n",
        "print(f\"The firing rate is r:{r}\")\n",
        "\n",
        "# Plotting the voltage over time\n",
        "# On some occasions the plot is empty on other occassions the plot has an upward curve to it.\n",
        "\n",
        "\n",
        "plt.plot( np.linspace(0, T, time_steps + 1), V)\n",
        "plt.plot( np.linspace(0, T, time_steps + 1), V_th * np.ones(time_steps + 1 ), 'ro')\n",
        "plt.xlabel(\"Time/s\")\n",
        "plt.ylabel(\"Voltage/V\")\n",
        "plt.title(\"LIF model of neuronal voltage\")\n",
        "plt.axis([0, T, V_re, np.max(V)])\n",
        "\n",
        "print(\"This code needs to be run multiple times to see anything meaningful\")\n",
        "print(\"The blue line is the voltage and the red line is the threshold voltage\")"
      ],
      "execution_count": 3,
      "outputs": [
        {
          "output_type": "stream",
          "text": [
            "The firing rate is r:708.0\n",
            "This code needs to be run multiple times to see anything meaningful\n",
            "The blue line is the voltage and the red line is the threshold voltage\n"
          ],
          "name": "stdout"
        },
        {
          "output_type": "display_data",
          "data": {
            "image/png": "[encoded data removed]",
            "text/plain": [
              "<Figure size 432x288 with 1 Axes>"
            ]
          },
          "metadata": {
            "tags": [],
            "needs_background": "light"
          }
        }
      ]
    },
    {
      "cell_type": "markdown",
      "metadata": {
        "id": "r2hp4zIkp9TI"
      },
      "source": [
        "Finding the firing rate using Eq. 16"
      ]
    },
    {
      "cell_type": "code",
      "metadata": {
        "id": "_qe45LSyqDVe",
        "outputId": "fc830264-69d9-40fb-97ef-1fd08b852eb6",
        "colab": {
          "base_uri": "https://localhost:8080/",
          "height": 68
        }
      },
      "source": [
        "\n",
        "# Defining variables.\n",
        "\n",
        "x_th = (V_th - E_0) / sigma\n",
        "x_re = (V_re - E_0) / sigma\n",
        "print(x_th, x_re)\n",
        "\n",
        "# Using scipy integrate to find Z.\n",
        "# I am having trouble with this as the integrand diverges to infinity.\n",
        "Z = integrate.quad(lambda z : (z ** -1) * (( math.exp(x_th * z) - math.exp(x_re * z) ) * math.exp( (-1/2) * (z ** 2) )) ,0 ,10 )\n",
        "print(f\" Z = {Z}, The first number is the value of Z and the second the error of integration\")\n",
        "print(\"This is too high and increases with increasing domain of integration, suggests divergence of the integral\")\n",
        "\n",
        "# Calculating the firing rate\n",
        "# r = ( Tau * Z ) ** (-1)"
      ],
      "execution_count": 6,
      "outputs": [
        {
          "output_type": "stream",
          "text": [
            "27.5 1.2499999999999993\n",
            " Z = (2.9805791709548576e+95, 3.798703467090728e+82), The first number is the value of Z and the second the error of integration\n",
            "This is too high and increases with increasing domain of integration, suggests divergence of the integral\n"
          ],
          "name": "stdout"
        }
      ]
    },
    {
      "cell_type": "code",
      "metadata": {
        "id": "JtEImUFxuxlm",
        "outputId": "5f692dbc-10c4-4fec-9f8e-2bffe5afbde5",
        "colab": {
          "base_uri": "https://localhost:8080/",
          "height": 51
        }
      },
      "source": [
        "\n",
        "# Trying to find out why the integrand in Eq. 16 diverges.\n",
        "z = 10\n",
        "print(math.exp( (-1/2) * ( z ** 2 ) ) * math.exp( x_th * z ) * (z ** (-1) ))\n",
        "print(\"This is very high\")"
      ],
      "execution_count": 8,
      "outputs": [
        {
          "output_type": "stream",
          "text": [
            "5.203055137884855e+96\n",
            "This is very high\n"
          ],
          "name": "stdout"
        }
      ]
    },
    {
      "cell_type": "code",
      "metadata": {
        "id": "ebCjn-pbV_Jq"
      },
      "source": [
        ""
      ],
      "execution_count": null,
      "outputs": []
    }
  ]
}